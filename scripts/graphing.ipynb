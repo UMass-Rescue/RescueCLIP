{
 "cells": [
  {
   "cell_type": "code",
   "execution_count": 29,
   "id": "272e0743",
   "metadata": {},
   "outputs": [],
   "source": [
    "import pandas as pd\n",
    "import matplotlib.pyplot as plt\n",
    "\n",
    "def plot_df_to_image(df):\n",
    "    # Create a figure and axis\n",
    "    fig, ax = plt.subplots(figsize=(8, len(df) * 0.5 + 1))  # Adjust size dynamically\n",
    "\n",
    "    # Hide axes\n",
    "    ax.axis('tight')\n",
    "    ax.axis('off')\n",
    "\n",
    "    # Create a table and add it to the figure\n",
    "    table = ax.table(cellText=df.values, colLabels=df.columns, cellLoc=\"center\", loc=\"center\")\n"
   ]
  },
  {
   "cell_type": "code",
   "execution_count": 30,
   "id": "24064716-eb01-4e3f-ab97-1b387dfc48c6",
   "metadata": {},
   "outputs": [
    {
     "name": "stdout",
     "output_type": "stream",
     "text": [
      "  similarity_metric     collection     model  top_k  accuracy\n",
      "0            cosine  ViT_B_32_CUHK  ViT-B-32      1  0.212468\n",
      "1            cosine  ViT_B_32_CUHK  ViT-B-32      2  0.258906\n",
      "2            cosine  ViT_B_32_CUHK  ViT-B-32      5  0.315522\n",
      "3            cosine  ViT_B_32_CUHK  ViT-B-32     10  0.372137\n",
      "4            cosine  ViT_B_32_CUHK  ViT-B-32     15  0.418575\n",
      "similarity_metric     object\n",
      "collection            object\n",
      "model                 object\n",
      "top_k                  int64\n",
      "accuracy             float64\n",
      "dtype: object\n"
     ]
    }
   ],
   "source": [
    "csv_file = 'cuhk_embeddings/exclude_one_image_per_set_exp_results.csv'\n",
    "df = pd.read_csv(csv_file)\n",
    "\n",
    "print(df.head())\n",
    "print(df.dtypes)\n"
   ]
  },
  {
   "cell_type": "code",
   "execution_count": 31,
   "id": "9e79f231",
   "metadata": {},
   "outputs": [
    {
     "data": {
      "text/html": [
       "<div>\n",
       "<style scoped>\n",
       "    .dataframe tbody tr th:only-of-type {\n",
       "        vertical-align: middle;\n",
       "    }\n",
       "\n",
       "    .dataframe tbody tr th {\n",
       "        vertical-align: top;\n",
       "    }\n",
       "\n",
       "    .dataframe thead th {\n",
       "        text-align: right;\n",
       "    }\n",
       "</style>\n",
       "<table border=\"1\" class=\"dataframe\">\n",
       "  <thead>\n",
       "    <tr style=\"text-align: right;\">\n",
       "      <th></th>\n",
       "      <th></th>\n",
       "      <th>mean_accuracy</th>\n",
       "      <th>std</th>\n",
       "    </tr>\n",
       "    <tr>\n",
       "      <th>similarity_metric</th>\n",
       "      <th>model</th>\n",
       "      <th></th>\n",
       "      <th></th>\n",
       "    </tr>\n",
       "  </thead>\n",
       "  <tbody>\n",
       "    <tr>\n",
       "      <th rowspan=\"3\" valign=\"top\">cosine</th>\n",
       "      <th>hf-hub:apple/DFN5B-CLIP-ViT-H-14-384</th>\n",
       "      <td>0.802608</td>\n",
       "      <td>0.006269</td>\n",
       "    </tr>\n",
       "    <tr>\n",
       "      <th>hf-hub:laion/CLIP-ViT-bigG-14-laion2B-39B-b160k</th>\n",
       "      <td>0.549682</td>\n",
       "      <td>0.008458</td>\n",
       "    </tr>\n",
       "    <tr>\n",
       "      <th>ViT-B-32</th>\n",
       "      <td>0.440458</td>\n",
       "      <td>0.012115</td>\n",
       "    </tr>\n",
       "    <tr>\n",
       "      <th>euclidean</th>\n",
       "      <th>PDNA</th>\n",
       "      <td>0.416349</td>\n",
       "      <td>0.005674</td>\n",
       "    </tr>\n",
       "    <tr>\n",
       "      <th>custom_metric</th>\n",
       "      <th>PDNA</th>\n",
       "      <td>0.020409</td>\n",
       "      <td>0.002092</td>\n",
       "    </tr>\n",
       "  </tbody>\n",
       "</table>\n",
       "</div>"
      ],
      "text/plain": [
       "                                                                   mean_accuracy  \\\n",
       "similarity_metric model                                                            \n",
       "cosine            hf-hub:apple/DFN5B-CLIP-ViT-H-14-384                  0.802608   \n",
       "                  hf-hub:laion/CLIP-ViT-bigG-14-laion2B-39B-b160k       0.549682   \n",
       "                  ViT-B-32                                              0.440458   \n",
       "euclidean         PDNA                                                  0.416349   \n",
       "custom_metric     PDNA                                                  0.020409   \n",
       "\n",
       "                                                                        std  \n",
       "similarity_metric model                                                      \n",
       "cosine            hf-hub:apple/DFN5B-CLIP-ViT-H-14-384             0.006269  \n",
       "                  hf-hub:laion/CLIP-ViT-bigG-14-laion2B-39B-b160k  0.008458  \n",
       "                  ViT-B-32                                         0.012115  \n",
       "euclidean         PDNA                                             0.005674  \n",
       "custom_metric     PDNA                                             0.002092  "
      ]
     },
     "execution_count": 31,
     "metadata": {},
     "output_type": "execute_result"
    }
   ],
   "source": [
    "df = df[df[\"top_k\"] == 20]\n",
    "grouped = df.groupby([\"similarity_metric\", \"model\"])['accuracy'].agg(mean_accuracy=('mean'), std=('std'))\n",
    "grouped = grouped.sort_values(by='mean_accuracy', ascending=False) # type: ignore\n",
    "grouped"
   ]
  },
  {
   "cell_type": "code",
   "execution_count": 36,
   "id": "48345e2e",
   "metadata": {},
   "outputs": [
    {
     "name": "stdout",
     "output_type": "stream",
     "text": [
      "\\begin{tabular}{llrr}\n",
      "\\toprule\n",
      " &  & mean_accuracy & std \\\\\n",
      "similarity_metric & model &  &  \\\\\n",
      "\\midrule\n",
      "\\multirow[t]{3}{*}{cosine} & hf-hub:apple/DFN5B-CLIP-ViT-H-14-384 & 0.802608 & 0.006269 \\\\\n",
      " & hf-hub:laion/CLIP-ViT-bigG-14-laion2B-39B-b160k & 0.549682 & 0.008458 \\\\\n",
      " & ViT-B-32 & 0.440458 & 0.012115 \\\\\n",
      "\\cline{1-4}\n",
      "euclidean & PDNA & 0.416349 & 0.005674 \\\\\n",
      "\\cline{1-4}\n",
      "custom_metric & PDNA & 0.020409 & 0.002092 \\\\\n",
      "\\cline{1-4}\n",
      "\\bottomrule\n",
      "\\end{tabular}\n",
      "\n"
     ]
    }
   ],
   "source": [
    "latex = grouped.to_latex()\n",
    "print(latex)"
   ]
  },
  {
   "cell_type": "code",
   "execution_count": null,
   "id": "165c5ea9",
   "metadata": {},
   "outputs": [],
   "source": []
  }
 ],
 "metadata": {
  "kernelspec": {
   "display_name": "rescueCLIP",
   "language": "python",
   "name": "python3"
  },
  "language_info": {
   "codemirror_mode": {
    "name": "ipython",
    "version": 3
   },
   "file_extension": ".py",
   "mimetype": "text/x-python",
   "name": "python",
   "nbconvert_exporter": "python",
   "pygments_lexer": "ipython3",
   "version": "3.12.8"
  }
 },
 "nbformat": 4,
 "nbformat_minor": 5
}
